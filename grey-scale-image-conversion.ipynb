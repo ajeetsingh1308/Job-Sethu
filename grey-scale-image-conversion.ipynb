{
  "nbformat": 4,
  "nbformat_minor": 0,
  "metadata": {
    "colab": {
      "provenance": [],
      "authorship_tag": "ABX9TyO8DshA5LBeathFy1TfrrWE",
      "include_colab_link": true
    },
    "kernelspec": {
      "name": "python3",
      "display_name": "Python 3"
    },
    "language_info": {
      "name": "python"
    }
  },
  "cells": [
    {
      "cell_type": "markdown",
      "metadata": {
        "id": "view-in-github",
        "colab_type": "text"
      },
      "source": [
        "<a href=\"https://colab.research.google.com/github/ajeetsingh1308/Job-Sethu/blob/main/grey-scale-image-conversion.ipynb\" target=\"_parent\"><img src=\"https://colab.research.google.com/assets/colab-badge.svg\" alt=\"Open In Colab\"/></a>"
      ]
    },
    {
      "cell_type": "code",
      "execution_count": 2,
      "metadata": {
        "colab": {
          "base_uri": "https://localhost:8080/"
        },
        "id": "orHFLjceuai2",
        "outputId": "fa25f06c-ac7e-4829-9ba8-6f429213e5f3"
      },
      "outputs": [
        {
          "output_type": "stream",
          "name": "stdout",
          "text": [
            "Grayscale image saved at output_grayscale_image.jpg\n"
          ]
        },
        {
          "output_type": "stream",
          "name": "stderr",
          "text": [
            "/tmp/ipython-input-2438263275.py:21: DeprecationWarning: 'mode' parameter is deprecated and will be removed in Pillow 13 (2026-10-15)\n",
            "  grayscale_img = Image.fromarray(grayscale_array, mode='L')\n"
          ]
        }
      ],
      "source": [
        "from PIL import Image\n",
        "import numpy as np\n",
        "\n",
        "def rgb_to_grayscale_weighted(image_path, output_path):\n",
        "    # Open the image\n",
        "    img = Image.open('/content/B-2-Spirit.jpg').convert('RGB')\n",
        "\n",
        "    # Convert image to numpy array\n",
        "    img_array = np.array(img, dtype=float)\n",
        "\n",
        "    # Define weights for RGB channels\n",
        "    weights = np.array([0.2989, 0.5870, 0.1140])\n",
        "\n",
        "    # Apply weighted sum across the RGB channels\n",
        "    grayscale_array = np.dot(img_array[..., :3], weights)\n",
        "\n",
        "    # Convert back to uint8\n",
        "    grayscale_array = grayscale_array.astype(np.uint8)\n",
        "\n",
        "    # Create grayscale image from array\n",
        "    grayscale_img = Image.fromarray(grayscale_array, mode='L')\n",
        "\n",
        "    # Save the grayscale image\n",
        "    grayscale_img.save(output_path)\n",
        "    print(f\"Grayscale image saved at {output_path}\")\n",
        "\n",
        "# Example usage\n",
        "rgb_to_grayscale_weighted('input_color_image.jpg', 'output_grayscale_image.jpg')\n"
      ]
    }
  ]
}